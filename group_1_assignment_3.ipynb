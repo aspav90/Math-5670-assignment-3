{
  "nbformat": 4,
  "nbformat_minor": 0,
  "metadata": {
    "colab": {
      "name": "group_1_assignment_3.ipynb",
      "version": "0.3.2",
      "provenance": [],
      "collapsed_sections": [],
      "include_colab_link": true
    },
    "kernelspec": {
      "name": "python3",
      "display_name": "Python 3"
    }
  },
  "cells": [
    {
      "cell_type": "markdown",
      "metadata": {
        "id": "view-in-github",
        "colab_type": "text"
      },
      "source": [
        "<a href=\"https://colab.research.google.com/github/aspav90/Math-5670-assignment-3/blob/master/group_1_assignment_3.ipynb\" target=\"_parent\"><img src=\"https://colab.research.google.com/assets/colab-badge.svg\" alt=\"Open In Colab\"/></a>"
      ]
    },
    {
      "cell_type": "markdown",
      "metadata": {
        "id": "4-r-psY6qCHc",
        "colab_type": "text"
      },
      "source": [
        "###Assignment 3\n",
        "\n",
        "Oleksandr Pavlenko \\\\\n",
        " \\\\\n",
        "in what follows the ***requests*** library is used to receive XML data from the website as a string. The ***xlsxwriter*** library is used to write the resulting array of rates to an Excel file. The ***lxml.etree*** module is used to parse the XML data.\n",
        "\n",
        "I know that this assigment can be done more efficiently using ***pandas*** or ***numpy*** libraries, but I intentionally decided to only use basic Python data structures.\n"
      ]
    },
    {
      "cell_type": "code",
      "metadata": {
        "id": "W7dawiyg1rFR",
        "colab_type": "code",
        "colab": {}
      },
      "source": [
        "!pip install -q xlsxwriter"
      ],
      "execution_count": 0,
      "outputs": []
    },
    {
      "cell_type": "code",
      "metadata": {
        "id": "v4Ek_6fvqano",
        "colab_type": "code",
        "colab": {}
      },
      "source": [
        "import requests\n",
        "import xlsxwriter\n",
        "from lxml import etree"
      ],
      "execution_count": 0,
      "outputs": []
    },
    {
      "cell_type": "markdown",
      "metadata": {
        "id": "yYkmsUXHr3mN",
        "colab_type": "text"
      },
      "source": [
        "The following function takes an integer four-digit year as an argument and retrievs the daily Treasury yield curve rates for the specified year from the US Treasury website in XML format (the argument should be an integer between 1990 and 2019, as no data is available on the website for earlier years) The function then returns a 2-dimensional list with rates, where each column is a yield rate type and each row is a date (the first column contains dates in string format). \\\\\n",
        " \\\\\n",
        "\n",
        "The ***xml_string*** contains the response from the website in string format. The ***tree*** is an ***Element*** object from the ***xml.etree*** module. The variables ***tbill_date***, ***tbill_1month***, ..., ***tbill_30year*** are all lists containing corresponding elements from the tree. In the concluding for loop, the text content of all these elements is retrieved and saved to a 2-dimensional list ***rates*** (each element is a list of length 13)."
      ]
    },
    {
      "cell_type": "code",
      "metadata": {
        "id": "Z7dzVHOqr4Db",
        "colab_type": "code",
        "colab": {}
      },
      "source": [
        "def get_rates(year):\n",
        "    \"\"\" The function takes a four-digit numeric year (1990 - 2019) as an\n",
        "    argument and retrievs the daily Treasury yield curve rates for the\n",
        "    specified year from the US Treasury website in XML format. The function \n",
        "    then return a 2-dimensional list with rates where each column is a yield\n",
        "    rate type and each row is a date.\"\"\"\n",
        "\n",
        "    if year not in range(1990,2020):\n",
        "        print(\"Error: no data available for this year\")\n",
        "        return []\n",
        "    \n",
        "    url = \"https://data.treasury.gov/feed.svc/DailyTreasuryYieldCurveRate\" \\\n",
        "    + \"Data?$filter=year(NEW_DATE)%20eq%20\" + str(year)\n",
        "\n",
        "    xml_string = requests.get(url).content\n",
        "    \n",
        "    tree = etree.fromstring(xml_string)\n",
        "    \n",
        "    tbill_date = tree.findall(\".//{http://schemas.microsoft.com/ado/2007\" \\\n",
        "                                   + \"/08/dataservices}NEW_DATE\")\n",
        "    tbill_1month = tree.findall(\".//{http://schemas.microsoft.com/ado/2007\" \\\n",
        "                                     + \"/08/dataservices}BC_1MONTH\")\n",
        "    tbill_2month = tree.findall(\".//{http://schemas.microsoft.com/ado/2007\" \\\n",
        "                                     + \"/08/dataservices}BC_2MONTH\")\n",
        "    tbill_3month = tree.findall(\".//{http://schemas.microsoft.com/ado/2007\" \\\n",
        "                                     + \"/08/dataservices}BC_3MONTH\")\n",
        "    tbill_6month = tree.findall(\".//{http://schemas.microsoft.com/ado/2007\" \\\n",
        "                                     + \"/08/dataservices}BC_6MONTH\")\n",
        "    tbill_1year = tree.findall(\".//{http://schemas.microsoft.com/ado/2007\" \\\n",
        "                                    + \"/08/dataservices}BC_1YEAR\")\n",
        "    tbill_2year = tree.findall(\".//{http://schemas.microsoft.com/ado/2007\" \\\n",
        "                                    + \"/08/dataservices}BC_2YEAR\")\n",
        "    tbill_3year = tree.findall(\".//{http://schemas.microsoft.com/ado/2007\" \\\n",
        "                                    + \"/08/dataservices}BC_3YEAR\")\n",
        "    tbill_5year = tree.findall(\".//{http://schemas.microsoft.com/ado/2007\" \\\n",
        "                                    + \"/08/dataservices}BC_5YEAR\")\n",
        "    tbill_7year = tree.findall(\".//{http://schemas.microsoft.com/ado/2007\" \\\n",
        "                                    + \"/08/dataservices}BC_7YEAR\")\n",
        "    tbill_10year = tree.findall(\".//{http://schemas.microsoft.com/ado/2007\" \\\n",
        "                                     + \"/08/dataservices}BC_10YEAR\")\n",
        "    tbill_20year = tree.findall(\".//{http://schemas.microsoft.com/ado/2007\" \\\n",
        "                                     + \"/08/dataservices}BC_20YEAR\")\n",
        "    tbill_30year = tree.findall(\".//{http://schemas.microsoft.com/ado/2007\" \\\n",
        "                                     + \"/08/dataservices}BC_30YEAR\")\n",
        "    \n",
        "    rates = []\n",
        "    \n",
        "    for n in range(len(tbill_date)):\n",
        "        row = [tbill_date[n].text, tbill_1month[n].text, tbill_2month[n].text, \\\n",
        "              tbill_3month[n].text, tbill_6month[n].text, tbill_1year[n].text, \\\n",
        "              tbill_2year[n].text, tbill_3year[n].text, tbill_5year[n].text, \\\n",
        "              tbill_7year[n].text, tbill_10year[n].text, tbill_20year[n].text, \\\n",
        "              tbill_30year[n].text]\n",
        "        \n",
        "        rates.append(row)\n",
        "        \n",
        "    return rates"
      ],
      "execution_count": 0,
      "outputs": []
    },
    {
      "cell_type": "markdown",
      "metadata": {
        "id": "4nuD1CDWwvj0",
        "colab_type": "text"
      },
      "source": [
        "The ***start_year*** and ***end_year*** for the time period are arbitrary. As the list returned by the function has the same number of columns for all possible years, we can add the results iteratively to the ***rates*** list by simply using the ***+*** operator. This allows for a single 2-dimensional list containing rates for all years in the time period."
      ]
    },
    {
      "cell_type": "code",
      "metadata": {
        "id": "trcQubWSwvvt",
        "colab_type": "code",
        "colab": {}
      },
      "source": [
        "start_year = 2015\n",
        "end_year = 2017\n",
        "\n",
        "rates = []\n",
        "\n",
        "for year in range(start_year, end_year + 1):\n",
        "    rates += get_rates(year)"
      ],
      "execution_count": 0,
      "outputs": []
    },
    {
      "cell_type": "markdown",
      "metadata": {
        "id": "WJwolcVvyY1Z",
        "colab_type": "text"
      },
      "source": [
        "In what follows the list rates is written to an Excel file. I know this could be done easier with more advanced libraries like ***pandas***, but I was not able to figure out a more concise way to di it with just lists. The ***xlsxwriter*** library was chosen for no particular reason. \\\\\n",
        " \\\\\n",
        " \n",
        "The ***{'strings_to_numbers':  True}*** parameter was added to the ***xlsxwriter.Workbook*** function to ensure that the rates currently in string format are written as numbers. The header with column names is added manually using ***write()*** function. Finally, all of the data is manually written to the file in a simple for loop."
      ]
    },
    {
      "cell_type": "code",
      "metadata": {
        "id": "UnUcn0EUyZB_",
        "colab_type": "code",
        "colab": {}
      },
      "source": [
        "file_name = \"YieldCurveRates%s-%s.xlsx\" % (start_year, end_year)\n",
        "workbook = xlsxwriter.Workbook(file_name, {'strings_to_numbers':  True})\n",
        "worksheet = workbook.add_worksheet()\n",
        "\n",
        "worksheet.write('A1', 'Date')\n",
        "worksheet.write('B1', '1 Mo')\n",
        "worksheet.write('C1', '2 Mo')\n",
        "worksheet.write('D1', '3 Mo')\n",
        "worksheet.write('E1', '6 Mo')\n",
        "worksheet.write('F1', '1 Yr')\n",
        "worksheet.write('G1', '2 Yr')\n",
        "worksheet.write('H1', '3 Yr')\n",
        "worksheet.write('I1', '5 Yr')\n",
        "worksheet.write('J1', '7 Yr')\n",
        "worksheet.write('K1', '10 Yr')\n",
        "worksheet.write('L1', '20 Yr')\n",
        "worksheet.write('M1', '30 Yr')\n",
        "\n",
        "row = 1\n",
        "col = 0\n",
        "\n",
        "for date, mo1, mo2, mo3, mo6, ye1, ye2, ye3, ye5, ye7, ye10, ye20, ye30 in \\\n",
        "rates:\n",
        "    worksheet.write(row, col, date)\n",
        "    worksheet.write(row, col + 1, mo1)\n",
        "    worksheet.write(row, col + 2, mo2)\n",
        "    worksheet.write(row, col + 3, mo3)\n",
        "    worksheet.write(row, col + 4, mo6)\n",
        "    worksheet.write(row, col + 5, ye1)\n",
        "    worksheet.write(row, col + 6, ye2)\n",
        "    worksheet.write(row, col + 7, ye3)\n",
        "    worksheet.write(row, col + 8, ye5)\n",
        "    worksheet.write(row, col + 9, ye7)\n",
        "    worksheet.write(row, col + 10, ye10)\n",
        "    worksheet.write(row, col + 11, ye20)\n",
        "    worksheet.write(row, col + 12, ye30)\n",
        "    \n",
        "    row += 1\n",
        "    \n",
        "workbook.close()"
      ],
      "execution_count": 0,
      "outputs": []
    },
    {
      "cell_type": "markdown",
      "metadata": {
        "id": "vNUh-bq03dPT",
        "colab_type": "text"
      },
      "source": [
        "I was able to save the file to my Google drive, but I do not feel comfortable including the code here as I have not figured out all the details about this process. The command for downloading the file to the local drive should be enough."
      ]
    },
    {
      "cell_type": "code",
      "metadata": {
        "id": "B6B0JBa63dX4",
        "colab_type": "code",
        "colab": {}
      },
      "source": [
        "from google.colab import files\n",
        "files.download(file_name)"
      ],
      "execution_count": 0,
      "outputs": []
    }
  ]
}